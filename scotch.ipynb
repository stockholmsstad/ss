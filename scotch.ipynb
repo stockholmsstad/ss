{
    "metadata": {
        "language_info": {
            "codemirror_mode": {
                "name": "ipython", 
                "version": 3
            }, 
            "file_extension": ".py", 
            "version": "3.5.2", 
            "name": "python", 
            "mimetype": "text/x-python", 
            "nbconvert_exporter": "python", 
            "pygments_lexer": "ipython3"
        }, 
        "urth": {
            "dashboard": {
                "cellMargin": 10, 
                "maxColumns": 12, 
                "defaultCellHeight": 20
            }
        }, 
        "kernelspec": {
            "display_name": "Python 3.5 (Experimental) with Spark 1.6", 
            "name": "python3", 
            "language": "python"
        }
    }, 
    "nbformat": 4, 
    "cells": [
        {
            "metadata": {
                "urth": {
                    "dashboard": {
                        "layout": {
                            "col": 0, 
                            "height": 2, 
                            "row": 0, 
                            "width": 12
                        }
                    }
                }, 
                "urth_section": {
                    "layout": "vertical", 
                    "id": "1"
                }
            }, 
            "source": "# Got Scotch API?", 
            "cell_type": "markdown"
        }, 
        {
            "metadata": {
                "urth": {
                    "dashboard": {
                        "hidden": true
                    }
                }
            }, 
            "source": "This notebook is meant to demonstrate the transformation of an annotated notebook into a HTTP API using the Jupyter kernel gateway. The result is a simple scotch recommendation engine.\n\nThe original scotch data is from [https://www.mathstat.strath.ac.uk/outreach/nessie/nessie_whisky.html](https://www.mathstat.strath.ac.uk/outreach/nessie/nessie_whisky.html).", 
            "cell_type": "markdown"
        }, 
        {
            "source": "import pandas as pd\nimport pickle\nimport requests\nimport json", 
            "metadata": {
                "urth": {
                    "dashboard": {
                        "hidden": true
                    }
                }, 
                "collapsed": true, 
                "urth_section": {}
            }, 
            "execution_count": 1, 
            "cell_type": "code", 
            "outputs": []
        }, 
        {
            "metadata": {
                "urth": {
                    "dashboard": {
                        "hidden": true
                    }
                }, 
                "urth_section": {}
            }, 
            "source": "## Data\n\nWe read the scotch data from a public Box URL to make this notebook more portable. This is acceptable for small, public, demo data which is what we have here.", 
            "cell_type": "markdown"
        }, 
        {
            "source": "features_uri = 'https://ibm.box.com/shared/static/2vntdqbozf9lzmukkeoq1lfi2pcb00j1.dataframe' \nsim_uri = 'https://ibm.box.com/shared/static/54kzs5zquv0vjycemjckjbh0n00e7m5t.dataframe'", 
            "metadata": {
                "collapsed": true
            }, 
            "execution_count": 2, 
            "cell_type": "code", 
            "outputs": []
        }, 
        {
            "source": "resp = requests.get(features_uri)\nresp.raise_for_status()\nfeatures_df = pickle.loads(resp.content)", 
            "metadata": {
                "urth": {
                    "dashboard": {
                        "hidden": true
                    }
                }, 
                "collapsed": true
            }, 
            "execution_count": 3, 
            "cell_type": "code", 
            "outputs": []
        }, 
        {
            "source": "resp = requests.get(sim_uri)\nresp.raise_for_status()\nsim_df = pickle.loads(resp.content)", 
            "metadata": {
                "collapsed": true
            }, 
            "execution_count": 4, 
            "cell_type": "code", 
            "outputs": []
        }, 
        {
            "metadata": {
                "urth": {
                    "dashboard": {
                        "hidden": true
                    }
                }
            }, 
            "source": "Drop the cluster column. Don't need it here.", 
            "cell_type": "markdown"
        }, 
        {
            "source": "features_df = features_df.drop('cluster', axis=1)", 
            "metadata": {
                "urth": {
                    "dashboard": {
                        "hidden": true
                    }
                }, 
                "collapsed": true
            }, 
            "execution_count": 5, 
            "cell_type": "code", 
            "outputs": []
        }, 
        {
            "metadata": {}, 
            "source": "## API\n\nWe need to define a global `REQUEST` JSON string that will be replaced on each invocation of the API. We only care about path parameters and query string arguments, so we default those to blank here for development.", 
            "cell_type": "markdown"
        }, 
        {
            "source": "REQUEST = json.dumps({\n    'path' : {},\n    'args' : {}\n})", 
            "metadata": {
                "collapsed": true
            }, 
            "execution_count": 6, 
            "cell_type": "code", 
            "outputs": []
        }, 
        {
            "metadata": {}, 
            "source": "Provide a way to get the names of all the scotches known by the model.", 
            "cell_type": "markdown"
        }, 
        {
            "source": "# GET /scotches\nnames = sim_df.columns.tolist()\nprint(json.dumps(dict(names=names)))", 
            "metadata": {}, 
            "execution_count": 7, 
            "cell_type": "code", 
            "outputs": [
                {
                    "name": "stdout", 
                    "output_type": "stream", 
                    "text": "{\"names\": [\"Aberfeldy\", \"Aberlour\", \"AnCnoc\", \"Ardbeg\", \"Ardmore\", \"ArranIsleOf\", \"Auchentoshan\", \"Auchroisk\", \"Aultmore\", \"Balblair\", \"Balmenach\", \"Belvenie\", \"BenNevis\", \"Benriach\", \"Benrinnes\", \"Benromach\", \"Bladnoch\", \"BlairAthol\", \"Bowmore\", \"Bruichladdich\", \"Bunnahabhain\", \"Caol Ila\", \"Cardhu\", \"Clynelish\", \"Craigallechie\", \"Craigganmore\", \"Dailuaine\", \"Dalmore\", \"Dalwhinnie\", \"Deanston\", \"Dufftown\", \"Edradour\", \"GlenDeveronMacduff\", \"GlenElgin\", \"GlenGarioch\", \"GlenGrant\", \"GlenKeith\", \"GlenMoray\", \"GlenOrd\", \"GlenScotia\", \"GlenSpey\", \"Glenallachie\", \"Glendronach\", \"Glendullan\", \"Glenfarclas\", \"Glenfiddich\", \"Glengoyne\", \"Glenkinchie\", \"Glenlivet\", \"Glenlossie\", \"Glenmorangie\", \"Glenrothes\", \"Glenturret\", \"Highland Park\", \"Inchgower\", \"Isle of Jura\", \"Knochando\", \"Lagavulin\", \"Laphroig\", \"Linkwood\", \"Loch Lomond\", \"Longmorn\", \"Macallan\", \"Mannochmore\", \"Miltonduff\", \"Mortlach\", \"Oban\", \"OldFettercairn\", \"OldPulteney\", \"RoyalBrackla\", \"RoyalLochnagar\", \"Scapa\", \"Speyburn\", \"Speyside\", \"Springbank\", \"Strathisla\", \"Strathmill\", \"Talisker\", \"Tamdhu\", \"Tamnavulin\", \"Teaninich\", \"Tobermory\", \"Tomatin\", \"Tomintoul\", \"Tormore\", \"Tullibardine\"]}\n"
                }
            ]
        }, 
        {
            "metadata": {}, 
            "source": "Let clients query for features about a specific scotch given its name.", 
            "cell_type": "markdown"
        }, 
        {
            "source": "# GET /scotches/:scotch\nrequest = json.loads(REQUEST)\nname = request['path'].get('scotch', 'Talisker')\nfeatures = features_df.loc[name]\n# can't use to_dict because it retains numpy types which blow up when we json.dumps\nprint('{\"features\":%s}' % features.to_json())", 
            "metadata": {}, 
            "execution_count": 8, 
            "cell_type": "code", 
            "outputs": [
                {
                    "name": "stdout", 
                    "output_type": "stream", 
                    "text": "{\"features\":{\"Body\":4,\"Sweetness\":2,\"Smoky\":3,\"Medicinal\":3,\"Tobacco\":0,\"Honey\":1,\"Spicy\":3,\"Winey\":0,\"Nutty\":1,\"Malty\":2,\"Fruity\":2}}\n"
                }
            ]
        }, 
        {
            "metadata": {}, 
            "source": "Let clients request a set of scotches similar to the one named. Let clients specify how many results they wish to receive (`count`) and if they want all of the raw feature data included in the result or not (`include_features`).", 
            "cell_type": "markdown"
        }, 
        {
            "source": "# GET /scotches/:scotch/similar\nrequest = json.loads(REQUEST)\nname = request['path'].get('scotch', 'Talisker')\ncount = request['args'].get('count', 5)\ninc_features = request['args'].get('include_features', True)\n\nsimilar = sim_df[name].order(ascending=False)\nsimilar.name = 'Similarity'\ndf = pd.DataFrame(similar).ix[1:count+1]\n\nif inc_features:\n    df = df.join(features_df)\n    \ndf = df.reset_index().rename(columns={'Distillery': 'Name'})\nresult = {\n    'recommendations' : [row[1].to_dict() for row in df.iterrows()],\n    'for': name\n}\nprint(json.dumps(result))", 
            "metadata": {}, 
            "execution_count": 9, 
            "cell_type": "code", 
            "outputs": [
                {
                    "name": "stdout", 
                    "output_type": "stream", 
                    "text": "{\"for\": \"Talisker\", \"recommendations\": [{\"Similarity\": 0.9605849651931131, \"Body\": 3, \"Sweetness\": 2, \"Malty\": 1, \"Name\": \"Clynelish\", \"Medicinal\": 3, \"Spicy\": 2, \"Winey\": 0, \"Honey\": 0, \"Tobacco\": 1, \"Smoky\": 3, \"Nutty\": 1, \"Fruity\": 2}, {\"Similarity\": 0.9484168381883901, \"Body\": 4, \"Sweetness\": 1, \"Malty\": 2, \"Name\": \"Ardbeg\", \"Medicinal\": 4, \"Spicy\": 2, \"Winey\": 0, \"Honey\": 0, \"Tobacco\": 0, \"Smoky\": 4, \"Nutty\": 1, \"Fruity\": 1}, {\"Similarity\": 0.8992710312446166, \"Body\": 3, \"Sweetness\": 1, \"Malty\": 1, \"Name\": \"Caol Ila\", \"Medicinal\": 2, \"Spicy\": 2, \"Winey\": 0, \"Honey\": 0, \"Tobacco\": 1, \"Smoky\": 4, \"Nutty\": 2, \"Fruity\": 1}, {\"Similarity\": 0.8695980950674561, \"Body\": 4, \"Sweetness\": 1, \"Malty\": 1, \"Name\": \"Lagavulin\", \"Medicinal\": 4, \"Spicy\": 1, \"Winey\": 2, \"Honey\": 0, \"Tobacco\": 1, \"Smoky\": 4, \"Nutty\": 1, \"Fruity\": 1}, {\"Similarity\": 0.839754059379345, \"Body\": 3, \"Sweetness\": 2, \"Malty\": 2, \"Name\": \"Dalmore\", \"Medicinal\": 1, \"Spicy\": 2, \"Winey\": 2, \"Honey\": 1, \"Tobacco\": 0, \"Smoky\": 2, \"Nutty\": 1, \"Fruity\": 3}]}\n"
                }, 
                {
                    "name": "stderr", 
                    "output_type": "stream", 
                    "text": "/usr/local/src/conda3_runtime.v16/4.1.1/lib/python3.5/site-packages/ipykernel/__main__.py:7: FutureWarning: order is deprecated, use sort_values(...)\n"
                }
            ]
        }
    ], 
    "nbformat_minor": 1
}